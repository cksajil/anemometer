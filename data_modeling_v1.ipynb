{
 "cells": [
  {
   "cell_type": "code",
   "execution_count": 1,
   "id": "79feade1",
   "metadata": {},
   "outputs": [],
   "source": [
    "import os\n",
    "import numpy as np\n",
    "import pandas as pd\n",
    "from sklearn.linear_model import Lasso\n",
    "from sklearn.preprocessing import scale\n",
    "from sklearn.model_selection import train_test_split\n",
    "from sklearn.linear_model import LinearRegression\n",
    "from sklearn.ensemble import RandomForestRegressor\n",
    "from sklearn.metrics import mean_squared_error, r2_score, median_absolute_error"
   ]
  },
  {
   "cell_type": "code",
   "execution_count": 2,
   "id": "ae563bfe",
   "metadata": {},
   "outputs": [],
   "source": [
    "DATA_PATH = \"dataset\"\n",
    "DATA_FILE = \"data.csv\"\n",
    "data = pd.read_csv(os.path.join(DATA_PATH, DATA_FILE))\n",
    "N = data.shape[0]"
   ]
  },
  {
   "cell_type": "code",
   "execution_count": 3,
   "id": "718fd7fe",
   "metadata": {},
   "outputs": [],
   "source": [
    "data[\"delta\"] = data[\"duration1\"]-data[\"duration2\"]"
   ]
  },
  {
   "cell_type": "code",
   "execution_count": 4,
   "id": "0cfaad1b",
   "metadata": {},
   "outputs": [],
   "source": [
    "data = data.dropna()"
   ]
  },
  {
   "cell_type": "code",
   "execution_count": 5,
   "id": "0e53b641",
   "metadata": {},
   "outputs": [
    {
     "data": {
      "text/plain": [
       "(75000, 7)"
      ]
     },
     "execution_count": 5,
     "metadata": {},
     "output_type": "execute_result"
    }
   ],
   "source": [
    "data.shape"
   ]
  },
  {
   "cell_type": "code",
   "execution_count": 6,
   "id": "187095c0",
   "metadata": {},
   "outputs": [
    {
     "data": {
      "text/html": [
       "<div>\n",
       "<style scoped>\n",
       "    .dataframe tbody tr th:only-of-type {\n",
       "        vertical-align: middle;\n",
       "    }\n",
       "\n",
       "    .dataframe tbody tr th {\n",
       "        vertical-align: top;\n",
       "    }\n",
       "\n",
       "    .dataframe thead th {\n",
       "        text-align: right;\n",
       "    }\n",
       "</style>\n",
       "<table border=\"1\" class=\"dataframe\">\n",
       "  <thead>\n",
       "    <tr style=\"text-align: right;\">\n",
       "      <th></th>\n",
       "      <th>duration1</th>\n",
       "      <th>duration2</th>\n",
       "      <th>temperature</th>\n",
       "      <th>Humidity</th>\n",
       "      <th>Direction</th>\n",
       "      <th>Velocity</th>\n",
       "      <th>delta</th>\n",
       "    </tr>\n",
       "  </thead>\n",
       "  <tbody>\n",
       "    <tr>\n",
       "      <th>0</th>\n",
       "      <td>573</td>\n",
       "      <td>563</td>\n",
       "      <td>26.9</td>\n",
       "      <td>64.8</td>\n",
       "      <td>0</td>\n",
       "      <td>19.1</td>\n",
       "      <td>10</td>\n",
       "    </tr>\n",
       "    <tr>\n",
       "      <th>1</th>\n",
       "      <td>596</td>\n",
       "      <td>561</td>\n",
       "      <td>26.9</td>\n",
       "      <td>64.8</td>\n",
       "      <td>0</td>\n",
       "      <td>19.1</td>\n",
       "      <td>35</td>\n",
       "    </tr>\n",
       "  </tbody>\n",
       "</table>\n",
       "</div>"
      ],
      "text/plain": [
       "   duration1  duration2  temperature  Humidity  Direction  Velocity  delta\n",
       "0        573        563         26.9      64.8          0      19.1     10\n",
       "1        596        561         26.9      64.8          0      19.1     35"
      ]
     },
     "execution_count": 6,
     "metadata": {},
     "output_type": "execute_result"
    }
   ],
   "source": [
    "data.head(2)"
   ]
  },
  {
   "cell_type": "code",
   "execution_count": 7,
   "id": "1a5cdf72",
   "metadata": {},
   "outputs": [],
   "source": [
    "y = data[\"Velocity\"].values\n",
    "X = data.drop([\"Velocity\"], axis=1)"
   ]
  },
  {
   "cell_type": "code",
   "execution_count": 8,
   "id": "33d660ad",
   "metadata": {},
   "outputs": [],
   "source": [
    "X = scale(X)"
   ]
  },
  {
   "cell_type": "code",
   "execution_count": 9,
   "id": "50b97bac",
   "metadata": {},
   "outputs": [],
   "source": [
    "X_train, X_test, y_train, y_test = train_test_split(X, y, test_size=0.5, random_state=42)"
   ]
  },
  {
   "cell_type": "code",
   "execution_count": 10,
   "id": "a2a6b9b3",
   "metadata": {},
   "outputs": [],
   "source": [
    "def performance_metrics(y_true, y_pred):\n",
    "    mse = mean_squared_error(y_true, y_pred)\n",
    "    r2 = r2_score(y_true, y_pred)\n",
    "    mae = median_absolute_error(y_true, y_pred)\n",
    "    return r2, mse, mae"
   ]
  },
  {
   "cell_type": "code",
   "execution_count": 11,
   "id": "e3758e74",
   "metadata": {},
   "outputs": [],
   "source": [
    "model_classes = {\n",
    "    \"Linear Regression\": LinearRegression,\n",
    "    \"Lasso Regressor\": Lasso,\n",
    "    \"Random Forest Regressor\":RandomForestRegressor,\n",
    "}"
   ]
  },
  {
   "cell_type": "code",
   "execution_count": 13,
   "id": "85b391d1",
   "metadata": {},
   "outputs": [
    {
     "name": "stdout",
     "output_type": "stream",
     "text": [
      "Linear Regression model has Train r2 score:0.466, mse:4.517 and mae 1.3598\n",
      "Linear Regression model has Test r2 score:0.4635, mse:4.4928 and mae 1.361\n",
      "Lasso Regressor model has Train r2 score:0.2462, mse:6.3772 and mae 2.4153\n",
      "Lasso Regressor model has Test r2 score:0.2442, mse:6.3299 and mae 2.4153\n",
      "Random Forest Regressor model has Train r2 score:0.9999, mse:0.0009 and mae 0.0\n",
      "Random Forest Regressor model has Test r2 score:0.9996, mse:0.0029 and mae 0.0\n"
     ]
    }
   ],
   "source": [
    "for key, value in model_classes.items():\n",
    "    regressor = model_classes[key]\n",
    "    model = regressor()\n",
    "    model.fit(X_train, y_train)\n",
    "    y_pred_train = model.predict(X_train)\n",
    "    y_pred_test = model.predict(X_test)\n",
    "    r2_train, mse_train, mae_train = performance_metrics(y_train, y_pred_train)\n",
    "    r2_test, mse_test, mae_test = performance_metrics(y_test, y_pred_test)\n",
    "    r2_test = np.round(r2_test, 4)\n",
    "    mse_test = np.round(mse_test, 4)\n",
    "    mae_test = np.round(mae_test, 4)\n",
    "    r2_train = np.round(r2_train, 4)\n",
    "    mse_train = np.round(mse_train, 4)\n",
    "    mae_train = np.round(mae_train, 4)\n",
    "    print(\"{} model has Train r2 score:{}, mse:{} and mae {}\".format(key, r2_train, mse_train, mae_train)) \n",
    "    print(\"{} model has Test r2 score:{}, mse:{} and mae {}\".format(key, r2_test, mse_test, mae_test))    "
   ]
  },
  {
   "cell_type": "code",
   "execution_count": 15,
   "id": "4d3e3c8a",
   "metadata": {},
   "outputs": [
    {
     "name": "stdout",
     "output_type": "stream",
     "text": [
      "RF model has Train r2 score:0.9995, mse:0.004 and mae 0.0\n",
      "RF model has Test r2 score:0.9987, mse:0.0111 and mae 0.0\n"
     ]
    }
   ],
   "source": [
    "rf = RandomForestRegressor(n_estimators=2)\n",
    "rf.fit(X_train, y_train)\n",
    "y_pred_train = rf.predict(X_train)\n",
    "y_pred_test = rf.predict(X_test)\n",
    "r2_train, mse_train, mae_train = performance_metrics(y_train, y_pred_train)\n",
    "r2_test, mse_test, mae_test = performance_metrics(y_test, y_pred_test)\n",
    "r2_test = np.round(r2_test, 4)\n",
    "mse_test = np.round(mse_test, 4)\n",
    "mae_test = np.round(mae_test, 4)\n",
    "r2_train = np.round(r2_train, 4)\n",
    "mse_train = np.round(mse_train, 4)\n",
    "mae_train = np.round(mae_train, 4)\n",
    "print(\"RF model has Train r2 score:{}, mse:{} and mae {}\".format(r2_train, mse_train, mae_train)) \n",
    "print(\"RF model has Test r2 score:{}, mse:{} and mae {}\".format(r2_test, mse_test, mae_test))  "
   ]
  },
  {
   "cell_type": "code",
   "execution_count": null,
   "id": "cf346127",
   "metadata": {},
   "outputs": [],
   "source": []
  }
 ],
 "metadata": {
  "kernelspec": {
   "display_name": "venv",
   "language": "python",
   "name": "venv"
  },
  "language_info": {
   "codemirror_mode": {
    "name": "ipython",
    "version": 3
   },
   "file_extension": ".py",
   "mimetype": "text/x-python",
   "name": "python",
   "nbconvert_exporter": "python",
   "pygments_lexer": "ipython3",
   "version": "3.10.12"
  }
 },
 "nbformat": 4,
 "nbformat_minor": 5
}
