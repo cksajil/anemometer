{
 "cells": [
  {
   "cell_type": "code",
   "execution_count": 8,
   "id": "ea24b6c2",
   "metadata": {
    "scrolled": true
   },
   "outputs": [],
   "source": [
    "import os\n",
    "import pandas as pd\n",
    "import matplotlib.pyplot as plt"
   ]
  },
  {
   "cell_type": "code",
   "execution_count": 9,
   "id": "bda87753",
   "metadata": {},
   "outputs": [],
   "source": [
    "DATA_PATH = \"dataset\"\n",
    "DATA_FILE = \"data.csv\"\n",
    "data = pd.read_csv(os.path.join(DATA_PATH, DATA_FILE))"
   ]
  },
  {
   "cell_type": "code",
   "execution_count": 10,
   "id": "c58b0615",
   "metadata": {},
   "outputs": [
    {
     "name": "stdout",
     "output_type": "stream",
     "text": [
      "(75000, 6)\n"
     ]
    }
   ],
   "source": [
    "print(data.shape)"
   ]
  },
  {
   "cell_type": "code",
   "execution_count": 11,
   "id": "33b9195b",
   "metadata": {},
   "outputs": [
    {
     "data": {
      "text/html": [
       "<div>\n",
       "<style scoped>\n",
       "    .dataframe tbody tr th:only-of-type {\n",
       "        vertical-align: middle;\n",
       "    }\n",
       "\n",
       "    .dataframe tbody tr th {\n",
       "        vertical-align: top;\n",
       "    }\n",
       "\n",
       "    .dataframe thead th {\n",
       "        text-align: right;\n",
       "    }\n",
       "</style>\n",
       "<table border=\"1\" class=\"dataframe\">\n",
       "  <thead>\n",
       "    <tr style=\"text-align: right;\">\n",
       "      <th></th>\n",
       "      <th>duration1</th>\n",
       "      <th>duration2</th>\n",
       "      <th>temperature</th>\n",
       "      <th>Humidity</th>\n",
       "      <th>Direction</th>\n",
       "      <th>Velocity</th>\n",
       "    </tr>\n",
       "  </thead>\n",
       "  <tbody>\n",
       "    <tr>\n",
       "      <th>0</th>\n",
       "      <td>573</td>\n",
       "      <td>563</td>\n",
       "      <td>26.9</td>\n",
       "      <td>64.8</td>\n",
       "      <td>0</td>\n",
       "      <td>19.1</td>\n",
       "    </tr>\n",
       "    <tr>\n",
       "      <th>1</th>\n",
       "      <td>596</td>\n",
       "      <td>561</td>\n",
       "      <td>26.9</td>\n",
       "      <td>64.8</td>\n",
       "      <td>0</td>\n",
       "      <td>19.1</td>\n",
       "    </tr>\n",
       "    <tr>\n",
       "      <th>2</th>\n",
       "      <td>579</td>\n",
       "      <td>557</td>\n",
       "      <td>26.9</td>\n",
       "      <td>64.6</td>\n",
       "      <td>0</td>\n",
       "      <td>19.1</td>\n",
       "    </tr>\n",
       "  </tbody>\n",
       "</table>\n",
       "</div>"
      ],
      "text/plain": [
       "   duration1  duration2  temperature  Humidity  Direction  Velocity\n",
       "0        573        563         26.9      64.8          0      19.1\n",
       "1        596        561         26.9      64.8          0      19.1\n",
       "2        579        557         26.9      64.6          0      19.1"
      ]
     },
     "execution_count": 11,
     "metadata": {},
     "output_type": "execute_result"
    }
   ],
   "source": [
    "data.head(3)"
   ]
  },
  {
   "cell_type": "code",
   "execution_count": 13,
   "id": "71e51812",
   "metadata": {},
   "outputs": [
    {
     "data": {
      "text/html": [
       "<div>\n",
       "<style scoped>\n",
       "    .dataframe tbody tr th:only-of-type {\n",
       "        vertical-align: middle;\n",
       "    }\n",
       "\n",
       "    .dataframe tbody tr th {\n",
       "        vertical-align: top;\n",
       "    }\n",
       "\n",
       "    .dataframe thead th {\n",
       "        text-align: right;\n",
       "    }\n",
       "</style>\n",
       "<table border=\"1\" class=\"dataframe\">\n",
       "  <thead>\n",
       "    <tr style=\"text-align: right;\">\n",
       "      <th></th>\n",
       "      <th>duration1</th>\n",
       "      <th>duration2</th>\n",
       "      <th>temperature</th>\n",
       "      <th>Humidity</th>\n",
       "      <th>Direction</th>\n",
       "      <th>Velocity</th>\n",
       "    </tr>\n",
       "  </thead>\n",
       "  <tbody>\n",
       "    <tr>\n",
       "      <th>count</th>\n",
       "      <td>75000.000000</td>\n",
       "      <td>75000.000000</td>\n",
       "      <td>75000.000000</td>\n",
       "      <td>75000.000000</td>\n",
       "      <td>75000.000000</td>\n",
       "      <td>75000.000000</td>\n",
       "    </tr>\n",
       "    <tr>\n",
       "      <th>mean</th>\n",
       "      <td>571.724493</td>\n",
       "      <td>562.643373</td>\n",
       "      <td>27.069213</td>\n",
       "      <td>60.487608</td>\n",
       "      <td>180.000000</td>\n",
       "      <td>15.833333</td>\n",
       "    </tr>\n",
       "    <tr>\n",
       "      <th>std</th>\n",
       "      <td>9.890638</td>\n",
       "      <td>7.649569</td>\n",
       "      <td>0.702894</td>\n",
       "      <td>4.552666</td>\n",
       "      <td>108.167259</td>\n",
       "      <td>2.901264</td>\n",
       "    </tr>\n",
       "    <tr>\n",
       "      <th>min</th>\n",
       "      <td>557.000000</td>\n",
       "      <td>529.000000</td>\n",
       "      <td>25.100000</td>\n",
       "      <td>51.800000</td>\n",
       "      <td>0.000000</td>\n",
       "      <td>12.050000</td>\n",
       "    </tr>\n",
       "    <tr>\n",
       "      <th>25%</th>\n",
       "      <td>566.000000</td>\n",
       "      <td>559.000000</td>\n",
       "      <td>26.900000</td>\n",
       "      <td>57.100000</td>\n",
       "      <td>90.000000</td>\n",
       "      <td>12.050000</td>\n",
       "    </tr>\n",
       "    <tr>\n",
       "      <th>50%</th>\n",
       "      <td>570.000000</td>\n",
       "      <td>563.000000</td>\n",
       "      <td>27.300000</td>\n",
       "      <td>60.300000</td>\n",
       "      <td>180.000000</td>\n",
       "      <td>16.350000</td>\n",
       "    </tr>\n",
       "    <tr>\n",
       "      <th>75%</th>\n",
       "      <td>574.000000</td>\n",
       "      <td>566.000000</td>\n",
       "      <td>27.600000</td>\n",
       "      <td>63.600000</td>\n",
       "      <td>270.000000</td>\n",
       "      <td>19.100000</td>\n",
       "    </tr>\n",
       "    <tr>\n",
       "      <th>max</th>\n",
       "      <td>605.000000</td>\n",
       "      <td>598.000000</td>\n",
       "      <td>28.000000</td>\n",
       "      <td>72.600000</td>\n",
       "      <td>360.000000</td>\n",
       "      <td>19.100000</td>\n",
       "    </tr>\n",
       "  </tbody>\n",
       "</table>\n",
       "</div>"
      ],
      "text/plain": [
       "          duration1     duration2   temperature      Humidity     Direction  \\\n",
       "count  75000.000000  75000.000000  75000.000000  75000.000000  75000.000000   \n",
       "mean     571.724493    562.643373     27.069213     60.487608    180.000000   \n",
       "std        9.890638      7.649569      0.702894      4.552666    108.167259   \n",
       "min      557.000000    529.000000     25.100000     51.800000      0.000000   \n",
       "25%      566.000000    559.000000     26.900000     57.100000     90.000000   \n",
       "50%      570.000000    563.000000     27.300000     60.300000    180.000000   \n",
       "75%      574.000000    566.000000     27.600000     63.600000    270.000000   \n",
       "max      605.000000    598.000000     28.000000     72.600000    360.000000   \n",
       "\n",
       "           Velocity  \n",
       "count  75000.000000  \n",
       "mean      15.833333  \n",
       "std        2.901264  \n",
       "min       12.050000  \n",
       "25%       12.050000  \n",
       "50%       16.350000  \n",
       "75%       19.100000  \n",
       "max       19.100000  "
      ]
     },
     "execution_count": 13,
     "metadata": {},
     "output_type": "execute_result"
    }
   ],
   "source": [
    "data.describe()"
   ]
  },
  {
   "cell_type": "code",
   "execution_count": null,
   "id": "1843dde2",
   "metadata": {},
   "outputs": [],
   "source": []
  }
 ],
 "metadata": {
  "kernelspec": {
   "display_name": "venv",
   "language": "python",
   "name": "venv"
  },
  "language_info": {
   "codemirror_mode": {
    "name": "ipython",
    "version": 3
   },
   "file_extension": ".py",
   "mimetype": "text/x-python",
   "name": "python",
   "nbconvert_exporter": "python",
   "pygments_lexer": "ipython3",
   "version": "3.10.12"
  }
 },
 "nbformat": 4,
 "nbformat_minor": 5
}
